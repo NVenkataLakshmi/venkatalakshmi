{
  "cells": [
    {
      "cell_type": "markdown",
      "metadata": {
        "id": "view-in-github",
        "colab_type": "text"
      },
      "source": [
        "<a href=\"https://colab.research.google.com/github/NVenkataLakshmi/venkatalakshmi/blob/main/Overview_of_Colaboratory_Features.ipynb\" target=\"_parent\"><img src=\"https://colab.research.google.com/assets/colab-badge.svg\" alt=\"Open In Colab\"/></a>"
      ]
    },
    {
      "cell_type": "code",
      "source": [
        "import pandas as pd\n",
        "import numpy as np\n",
        "import matplotlib.pyplot as plt\n",
        "import seaborn as sns\n",
        "from sklearn.model_selection import train_test_split\n",
        "from sklearn.linear_model import Ridge, Lasso, ElasticNet, LinearRegression\n",
        "from sklearn.svm import SVR\n",
        "from sklearn.tree import DecisionTreeRegressor\n",
        "from sklearn.ensemble import RandomForestRegressor, GradientBoostingRegressor\n",
        "from sklearn.preprocessing import PolynomialFeatures\n",
        "from sklearn.metrics import mean_squared_error, r2_score\n",
        "from xgboost import XGBRegressor\n",
        "from sklearn.neighbors import KNeighborsRegressor\n",
        "from sklearn.neural_network import MLPRegressor"
      ],
      "metadata": {
        "id": "5LDrn6TtjEra"
      },
      "execution_count": null,
      "outputs": []
    },
    {
      "cell_type": "code",
      "source": [
        "\n",
        "df1 = pd.read_csv('mental-and-substance-use-as-share-of-disease.csv')\n",
        "df2 = pd.read_csv('prevalence-by-mental-and-substance-use-disorder.csv')\n",
        ""
      ],
      "metadata": {
        "id": "hR3yqU-ljJpf"
      },
      "execution_count": null,
      "outputs": []
    },
    {
      "cell_type": "code",
      "source": [
        "numeric_columns = df1.select_dtypes(include=[np.number]).columns\n",
        "df1[numeric_columns] = df1[numeric_columns].fillna(df1[numeric_columns].mean())\n",
        "\n",
        "numeric_columns = df2.select_dtypes(include=[np.number]).columns\n",
        "df2[numeric_columns] = df2[numeric_columns].fillna(df2[numeric_columns].mean())\n",
        ""
      ],
      "metadata": {
        "id": "R12jgrS8jPZM"
      },
      "execution_count": null,
      "outputs": []
    },
    {
      "cell_type": "code",
      "source": [
        "df1['DALYs (Disability-Adjusted Life Years) - Mental disorders - Sex: Both - Age: All Ages (Percent)'] = df1['DALYs (Disability-Adjusted Life Years) - Mental disorders - Sex: Both - Age: All Ages (Percent)'].astype(float)\n",
        "df2['Schizophrenia disorders (share of population) - Sex: Both - Age: Age-standardized'] = df2['Schizophrenia disorders (share of population) - Sex: Both - Age: Age-standardized'].astype(float)\n",
        "df2['Bipolar disorders (share of population) - Sex: Both - Age: Age-standardized'] = df2['Bipolar disorders (share of population) - Sex: Both - Age: Age-standardized'].astype(float)\n",
        "df2['Eating disorders (share of population) - Sex: Both - Age: Age-standardized'] = df2['Eating disorders (share of population) - Sex: Both - Age: Age-standardized'].astype(float)\n",
        "df2['Anxiety disorders (share of population) - Sex: Both - Age: Age-standardized'] = df2['Anxiety disorders (share of population) - Sex: Both - Age: Age-standardized'].astype(float)\n",
        "df2['Prevalence - Drug use disorders - Sex: Both - Age: Age-standardized (Percent)'] = df2['Prevalence - Drug use disorders - Sex: Both - Age: Age-standardized (Percent)'].astype(float)\n",
        "df2['Depressive disorders (share of population) - Sex: Both - Age: Age-standardized'] = df2['Depressive disorders (share of population) - Sex: Both - Age: Age-standardized'].astype(float)\n",
        "df2['Prevalence - Alcohol use disorders - Sex: Both - Age: Age-standardized (Percent)'] = df2['Prevalence - Alcohol use disorders - Sex: Both - Age: Age-standardized (Percent)'].astype(float)\n",
        ""
      ],
      "metadata": {
        "id": "KY-F39zfjVrg"
      },
      "execution_count": null,
      "outputs": []
    },
    {
      "cell_type": "code",
      "source": [
        "merged_df = pd.merge(df1, df2, on=['Entity', 'Code', 'Year'])\n",
        "\n"
      ],
      "metadata": {
        "id": "3C71SvAOjZG1"
      },
      "execution_count": null,
      "outputs": []
    },
    {
      "cell_type": "code",
      "source": [
        "X = merged_df[['Schizophrenia disorders (share of population) - Sex: Both - Age: Age-standardized',\n",
        "               'Bipolar disorders (share of population) - Sex: Both - Age: Age-standardized',\n",
        "               'Eating disorders (share of population) - Sex: Both - Age: Age-standardized',\n",
        "               'Anxiety disorders (share of population) - Sex: Both - Age: Age-standardized',\n",
        "               'Prevalence - Drug use disorders - Sex: Both - Age: Age-standardized (Percent)',\n",
        "               'Depressive disorders (share of population) - Sex: Both - Age: Age-standardized',\n",
        "               'Prevalence - Alcohol use disorders - Sex: Both - Age: Age-standardized (Percent)']]\n",
        "\n",
        "y = merged_df['DALYs (Disability-Adjusted Life Years) - Mental disorders - Sex: Both - Age: All Ages (Percent)']\n",
        "\n"
      ],
      "metadata": {
        "id": "DHfC43KzjaZ3"
      },
      "execution_count": null,
      "outputs": []
    },
    {
      "cell_type": "code",
      "source": [
        "X_train, X_test, y_train, y_test = train_test_split(X, y, test_size=0.2, random_state=42)\n",
        ""
      ],
      "metadata": {
        "id": "jxEuEpdljjTZ"
      },
      "execution_count": null,
      "outputs": []
    },
    {
      "cell_type": "code",
      "source": [
        "# Compute the correlation matrix\n",
        "corr_matrix = merged_df[['Schizophrenia disorders (share of population) - Sex: Both - Age: Age-standardized',\n",
        "                         'Bipolar disorders (share of population) - Sex: Both - Age: Age-standardized',\n",
        "                         'Eating disorders (share of population) - Sex: Both - Age: Age-standardized',\n",
        "                         'Anxiety disorders (share of population) - Sex: Both - Age: Age-standardized',\n",
        "                         'Prevalence - Drug use disorders - Sex: Both - Age: Age-standardized (Percent)',\n",
        "                         'Depressive disorders (share of population) - Sex: Both - Age: Age-standardized',\n",
        "                         'Prevalence - Alcohol use disorders - Sex: Both - Age: Age-standardized (Percent)',\n",
        "                         'DALYs (Disability-Adjusted Life Years) - Mental disorders - Sex: Both - Age: All Ages (Percent)'\n",
        "                        ]].corr()\n",
        "\n",
        "# Create the heatmap\n",
        "plt.figure(figsize=(12, 8))\n",
        "sns.heatmap(corr_matrix, annot=True, cmap='coolwarm')\n",
        "plt.title('Correlation Heatmap - Diseases and Mental Fitness')\n",
        "plt.xticks(rotation=45)\n",
        "plt.yticks(rotation=0)\n",
        "plt.show()\n",
        ""
      ],
      "metadata": {
        "id": "5rAe6DPejnyp"
      },
      "execution_count": null,
      "outputs": []
    },
    {
      "cell_type": "code",
      "source": [
        "model = LinearRegression()\n",
        "model.fit(X_train, y_train)\n",
        "\n"
      ],
      "metadata": {
        "id": "K_AF4XgTjtwb"
      },
      "execution_count": null,
      "outputs": []
    },
    {
      "cell_type": "code",
      "source": [
        "y_pred = model.predict(X_test)\n",
        "\n"
      ],
      "metadata": {
        "id": "0CIPE3uCjyQO"
      },
      "execution_count": null,
      "outputs": []
    },
    {
      "cell_type": "code",
      "source": [
        "# Create a dictionary to store the model performance\n",
        "model_performance = {}\n",
        "\n",
        "# Ridge Regression\n",
        "ridge_model = Ridge(alpha=0.5)\n",
        "ridge_model.fit(X_train, y_train)\n",
        "ridge_y_pred = ridge_model.predict(X_test)\n",
        "ridge_mse = mean_squared_error(y_test, ridge_y_pred)\n",
        "ridge_r2 = r2_score(y_test, ridge_y_pred)\n",
        "model_performance['1. Ridge Regression'] = {'MSE': ridge_mse, 'R-squared': ridge_r2}\n",
        "\n",
        "# Lasso Regression\n",
        "lasso_model = Lasso(alpha=0.5)\n",
        "lasso_model.fit(X_train, y_train)\n",
        "lasso_y_pred = lasso_model.predict(X_test)\n",
        "lasso_mse = mean_squared_error(y_test, lasso_y_pred)\n",
        "lasso_r2 = r2_score(y_test, lasso_y_pred)\n",
        "model_performance['2. Lasso Regression'] = {'MSE': lasso_mse, 'R-squared': lasso_r2}\n",
        "\n",
        "# Elastic Net Regression\n",
        "elastic_net_model = ElasticNet(alpha=0.5, l1_ratio=0.5)\n",
        "elastic_net_model.fit(X_train, y_train)\n",
        "elastic_net_y_pred = elastic_net_model.predict(X_test)\n",
        "elastic_net_mse = mean_squared_error(y_test, elastic_net_y_pred)\n",
        "elastic_net_r2 = r2_score(y_test, elastic_net_y_pred)\n",
        "model_performance['3. Elastic Net Regression'] = {'MSE': elastic_net_mse, 'R-squared': elastic_net_r2}\n",
        "\n",
        "# Polynomial Regression\n",
        "poly_features = PolynomialFeatures(degree=2)\n",
        "X_poly = poly_features.fit_transform(X_train)\n",
        "poly_model = LinearRegression()\n",
        "poly_model.fit(X_poly, y_train)\n",
        "X_test_poly = poly_features.transform(X_test)\n",
        "poly_y_pred = poly_model.predict(X_test_poly)\n",
        "poly_mse = mean_squared_error(y_test, poly_y_pred)\n",
        "poly_r2 = r2_score(y_test, poly_y_pred)\n",
        "model_performance['4. Polynomial Regression'] = {'MSE': poly_mse, 'R-squared': poly_r2}\n",
        "\n",
        "# Decision Tree Regression\n",
        "tree_model = DecisionTreeRegressor()\n",
        "tree_model.fit(X_train, y_train)\n",
        "tree_y_pred = tree_model.predict(X_test)\n",
        "tree_mse = mean_squared_error(y_test, tree_y_pred)\n",
        "tree_r2 = r2_score(y_test, tree_y_pred)\n",
        "model_performance['5. Decision Tree Regression'] = {'MSE': tree_mse, 'R-squared': tree_r2}\n",
        "\n",
        "# Random Forest Regression\n",
        "forest_model = RandomForestRegressor()\n",
        "forest_model.fit(X_train, y_train)\n",
        "forest_y_pred = forest_model.predict(X_test)\n",
        "forest_mse = mean_squared_error(y_test, forest_y_pred)\n",
        "forest_r2 = r2_score(y_test, forest_y_pred)\n",
        "model_performance['6. Random Forest Regression'] = {'MSE': forest_mse, 'R-squared': forest_r2}\n",
        "\n",
        "# SVR (Support Vector Regression)\n",
        "svr_model = SVR()\n",
        "svr_model.fit(X_train, y_train)\n",
        "svr_y_pred = svr_model.predict(X_test)\n",
        "svr_mse = mean_squared_error(y_test, svr_y_pred)\n",
        "svr_r2 = r2_score(y_test, svr_y_pred)\n",
        "model_performance['7. Support Vector Regression'] = {'MSE': svr_mse, 'R-squared': svr_r2}\n",
        "\n",
        "# XGBoost Regression\n",
        "xgb_model = XGBRegressor()\n",
        "xgb_model.fit(X_train, y_train)\n",
        "xgb_y_pred = xgb_model.predict(X_test)\n",
        "xgb_mse = mean_squared_error(y_test, xgb_y_pred)\n",
        "xgb_r2 = r2_score(y_test, xgb_y_pred)\n",
        "model_performance['8. XGBoost Regression'] = {'MSE': xgb_mse, 'R-squared': xgb_r2}\n",
        "\n",
        "# K-Nearest Neighbors Regression\n",
        "knn_model = KNeighborsRegressor()\n",
        "knn_model.fit(X_train, y_train)\n",
        "knn_y_pred = knn_model.predict(X_test)\n",
        "knn_mse = mean_squared_error(y_test, knn_y_pred)\n",
        "knn_r2 = r2_score(y_test, knn_y_pred)\n",
        "model_performance['9. K-Nearest Neighbors Regression'] = {'MSE': knn_mse, 'R-squared': knn_r2}\n",
        "\n",
        "# Bayesian Regression\n",
        "bayesian_model = BayesianRidge()\n",
        "bayesian_model.fit(X_train, y_train)\n",
        "bayesian_y_pred = bayesian_model.predict(X_test)\n",
        "bayesian_mse = mean_squared_error(y_test, bayesian_y_pred)\n",
        "bayesian_r2 = r2_score(y_test, bayesian_y_pred)\n",
        "model_performance['10. Bayesian Regression'] = {'MSE': bayesian_mse, 'R-squared': bayesian_r2}\n",
        "\n",
        "# Neural Network Regression\n",
        "nn_model = MLPRegressor(max_iter=1000)\n",
        "nn_model.fit(X_train, y_train)\n",
        "nn_y_pred = nn_model.predict(X_test)\n",
        "nn_mse = mean_squared_error(y_test, nn_y_pred)\n",
        "nn_r2 = r2_score(y_test, nn_y_pred)\n",
        "model_performance['11. Neural Network Regression'] = {'MSE': nn_mse, 'R-squared': nn_r2}\n",
        "\n",
        "# Gradient Boosting Regression\n",
        "gb_model = GradientBoostingRegressor()\n",
        "gb_model.fit(X_train, y_train)\n",
        "gb_y_pred = gb_model.predict(X_test)\n",
        "gb_mse = mean_squared_error(y_test, gb_y_pred)\n",
        "gb_r2 = r2_score(y_test, gb_y_pred)\n",
        "model_performance['12. Gradient Boosting Regression'] = {'MSE': gb_mse, 'R-squared': gb_r2}\n",
        "\n",
        "# Print model performance\n",
        "for model, performance in model_performance.items():\n",
        "    print(f\"Model: {model}\")\n",
        "    print(\"   Mean Squared Error (MSE):\", performance['MSE'])\n",
        "    print(\"   R-squared Score:\", performance['R-squared'])\n",
        "    print()\n",
        ""
      ],
      "metadata": {
        "id": "wj55r79Xj7KD"
      },
      "execution_count": null,
      "outputs": []
    },
    {
      "cell_type": "code",
      "source": [
        "# Create a dictionary to store the model performance\n",
        "model_performance = {\n",
        "    'Ridge Regression': {'Predicted': ridge_y_pred, 'Actual': y_test},\n",
        "    'Lasso Regression': {'Predicted': lasso_y_pred, 'Actual': y_test},\n",
        "    'Elastic Net Regression': {'Predicted': elastic_net_y_pred, 'Actual': y_test},\n",
        "    'Polynomial Regression': {'Predicted': poly_y_pred, 'Actual': y_test},\n",
        "    'Decision Tree Regression': {'Predicted': tree_y_pred, 'Actual': y_test},\n",
        "    'Random Forest Regression': {'Predicted': forest_y_pred, 'Actual': y_test},\n",
        "    'Support Vector Regression': {'Predicted': svr_y_pred, 'Actual': y_test},\n",
        "    'XGBoost Regression': {'Predicted': xgb_y_pred, 'Actual': y_test},\n",
        "    'K-Nearest Neighbors Regression': {'Predicted': knn_y_pred, 'Actual': y_test},\n",
        "    'Bayesian Regression': {'Predicted': bayesian_y_pred, 'Actual': y_test},\n",
        "    'Neural Network Regression': {'Predicted': nn_y_pred, 'Actual': y_test},\n",
        "    'Gradient Boosting Regression': {'Predicted': gb_y_pred, 'Actual': y_test}\n",
        "}\n",
        "\n",
        "# Set up figure and axes\n",
        "num_models = len(model_performance)\n",
        "num_rows = (num_models // 3) + (1 if num_models % 3 != 0 else 0)\n",
        "fig, axes = plt.subplots(num_rows, 3, figsize=(15, num_rows * 5))\n",
        "\n",
        "# Define color palette\n",
        "color_palette = plt.cm.Set1(range(num_models))\n",
        "\n",
        "# Iterate over the models and plot the predicted vs actual values\n",
        "for i, (model, performance) in enumerate(model_performance.items()):\n",
        "    row = i // 3\n",
        "    col = i % 3\n",
        "    ax = axes[row, col] if num_rows > 1 else axes[col]\n",
        "\n",
        "    # Get the predicted and actual values\n",
        "    y_pred = performance['Predicted']\n",
        "    y_actual = performance['Actual']\n",
        "\n",
        "    # Scatter plot of predicted vs actual values\n",
        "    ax.scatter(y_actual, y_pred, color=color_palette[i], alpha=0.5, marker='o')\n",
        "\n",
        "    # Add a diagonal line for reference\n",
        "    ax.plot([y_actual.min(), y_actual.max()], [y_actual.min(), y_actual.max()], color='r')\n",
        "\n",
        "    # Set the title and labels\n",
        "    ax.set_title(model)\n",
        "    ax.set_xlabel('Actual')\n",
        "    ax.set_ylabel('Predicted')\n",
        "\n",
        "    # Add gridlines\n",
        "    ax.grid(True)\n",
        "\n",
        "# Adjust spacing between subplots\n",
        "fig.tight_layout()\n",
        "\n",
        "# Create a legend\n",
        "plt.legend(model_performance.keys(), loc='upper right')\n",
        "\n",
        "# Show the plot\n",
        "plt.show()\n",
        ""
      ],
      "metadata": {
        "id": "0JtRbVlxj8XW"
      },
      "execution_count": null,
      "outputs": []
    },
    {
      "cell_type": "code",
      "source": [
        "# Store the regression models and their scores in a dictionary\n",
        "regression_scores = {\n",
        "    \"Ridge Regression\": (ridge_mse, ridge_r2),\n",
        "    \"Elastic Net Regression\": (elastic_net_mse, elastic_net_r2),\n",
        "    \"Polynomial Regression\": (poly_mse, poly_r2),\n",
        "    \"Random Forest Regression\": (forest_mse, forest_r2),\n",
        "    \"Gradient Boosting Regression\": (gb_mse, gb_r2),\n",
        "    \"Decision Tree Regression\": (tree_mse, tree_r2),\n",
        "    \"Lasso Regression\": (lasso_mse, lasso_r2),\n",
        "    \"Support Vector Regression\": (svr_mse, svr_r2),\n",
        "    \"XGBoost Regression\": (xgb_mse, xgb_r2),\n",
        "    \"K-Nearest Neighbors Regression\": (knn_mse, knn_r2),\n",
        "    \"Bayesian Regression\": (bayesian_mse, bayesian_r2),\n",
        "    \"Neural Network Regression\": (nn_mse, nn_r2),\n",
        "}\n",
        "\n",
        "# Sort the regression models based on MSE in ascending order and R-squared score in descending order\n",
        "sorted_models = sorted(regression_scores.items(), key=lambda x: (x[1][0], -x[1][1]))\n",
        "\n",
        "print(\"Regression Models in Order of Precision:\")\n",
        "for i, (model, scores) in enumerate(sorted_models, start=1):\n",
        "    print(f\"{i}. {model}\")\n",
        "    print(\"   Mean Squared Error (MSE):\", scores[0])\n",
        "    print(\"   R-squared Score:\", scores[1])\n",
        "    print()\n",
        "\n",
        "most_precise_model = sorted_models[0][0]\n",
        "least_precise_model = sorted_models[-1][0]\n",
        "\n",
        "print(f\"The most precise model is: {most_precise_model}\")\n",
        "print(f\"The least precise model is: {least_precise_model}\")\n",
        ""
      ],
      "metadata": {
        "id": "GoN7kVsNkBu8"
      },
      "execution_count": null,
      "outputs": []
    }
  ],
  "metadata": {
    "colab": {
      "name": "Overview of Colaboratory Features",
      "toc_visible": true,
      "provenance": [],
      "include_colab_link": true
    },
    "kernelspec": {
      "display_name": "Python 3",
      "name": "python3"
    }
  },
  "nbformat": 4,
  "nbformat_minor": 0
}